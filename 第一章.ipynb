{
 "cells": [
  {
   "cell_type": "markdown",
   "metadata": {},
   "source": [
    "1. python语言的特点\n",
    "2. 数据分析常用的库\n",
    "  * NumPy\n",
    "  * pandas\n",
    "  * matplotlib\n",
    "  * SciPy\n",
    "  * scikit-learn\n",
    "  * stasmodels\n",
    "3. 安装\n",
    "4. 编辑器\n",
    "5. 获取帮助信息及社区\n",
    "6. 书中一些约定"
   ]
  },
  {
   "cell_type": "code",
   "execution_count": null,
   "metadata": {
    "collapsed": true
   },
   "outputs": [],
   "source": []
  }
 ],
 "metadata": {
  "kernelspec": {
   "display_name": "Python 3",
   "language": "python",
   "name": "python3"
  },
  "language_info": {
   "codemirror_mode": {
    "name": "ipython",
    "version": 3
   },
   "file_extension": ".py",
   "mimetype": "text/x-python",
   "name": "python",
   "nbconvert_exporter": "python",
   "pygments_lexer": "ipython3",
   "version": "3.5.2"
  }
 },
 "nbformat": 4,
 "nbformat_minor": 1
}
