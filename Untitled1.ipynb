{
 "cells": [
  {
   "cell_type": "code",
   "execution_count": 3,
   "metadata": {
    "collapsed": false
   },
   "outputs": [],
   "source": [
    "import pandas as pd\n",
    "from pandas import DataFrame,Series\n",
    "import numpy as np"
   ]
  },
  {
   "cell_type": "markdown",
   "metadata": {},
   "source": [
    "按照定制顺序排序"
   ]
  },
  {
   "cell_type": "code",
   "execution_count": 4,
   "metadata": {
    "collapsed": true
   },
   "outputs": [],
   "source": [
    "df = pd.DataFrame(\n",
    "{'id':[2967, 5335, 13950, 6141, 6169],\\\n",
    " 'Player': ['Cedric Hunter', 'Maurice Baker' ,\\\n",
    "            'Ratko Varda' ,'Ryan Bowen' ,'Adrian Caldwell'],\\\n",
    " 'Year': [1991 ,2004 ,2001 ,2009 ,1997],\\\n",
    " 'Age': [27 ,25 ,22 ,34 ,31],\\\n",
    " 'Tm':['CHH' ,'VAN' ,'TOT' ,'OKC' ,'DAL'],\\\n",
    " 'G':[6 ,7 ,60 ,52 ,81]})"
   ]
  },
  {
   "cell_type": "code",
   "execution_count": 5,
   "metadata": {
    "collapsed": true
   },
   "outputs": [],
   "source": [
    "sorter = ['TOT', 'ATL', 'BOS', 'BRK', 'CHA', 'CHH', 'CHI', 'CLE', 'DAL','DEN',\\\n",
    "          'DET', 'GSW', 'HOU', 'IND', 'LAC', 'LAL', 'MEM', 'MIA', 'MIL',\\\n",
    "          'MIN', 'NJN', 'NOH', 'NOK', 'NOP', 'NYK', 'OKC', 'ORL', 'PHI',\\\n",
    "          'PHO', 'POR', 'SAC', 'SAS', 'SEA', 'TOR', 'UTA', 'VAN',\\\n",
    "          'WAS', 'WSB']\n"
   ]
  },
  {
   "cell_type": "code",
   "execution_count": 7,
   "metadata": {
    "collapsed": false
   },
   "outputs": [
    {
     "name": "stdout",
     "output_type": "stream",
     "text": [
      "   Age   G           Player   Tm  Year     id\n",
      "4   31  81  Adrian Caldwell  DAL  1997   6169\n",
      "0   27   6    Cedric Hunter  CHH  1991   2967\n",
      "1   25   7    Maurice Baker  VAN  2004   5335\n",
      "2   22  60      Ratko Varda  TOT  2001  13950\n",
      "3   34  52       Ryan Bowen  OKC  2009   6141\n"
     ]
    }
   ],
   "source": [
    "# Create the dictionary that defines the order for sorting\n",
    "sorterIndex = dict(zip(sorter,range(len(sorter))))\n",
    "\n",
    "# Generate a rank column that will be used to sort\n",
    "# the dataframe numerically\n",
    "df['Tm_Rank'] = df['Tm'].map(sorterIndex)\n",
    "\n",
    "# Here is the result asked with the lexicographic sort\n",
    "# Result may be hard to analyze, so a second sorting is\n",
    "# proposed next\n",
    "## NOTE: \n",
    "## Newer versions of pandas use 'sort_value' instead of 'sort'\n",
    "df.sort_values(['Player', 'Year', 'Tm_Rank'], \\\n",
    "        ascending = [True, True, True], inplace = True)\n",
    "df.drop('Tm_Rank', 1, inplace = True)\n",
    "print(df)"
   ]
  },
  {
   "cell_type": "markdown",
   "metadata": {},
   "source": [
    "方法二"
   ]
  },
  {
   "cell_type": "code",
   "execution_count": 8,
   "metadata": {
    "collapsed": true
   },
   "outputs": [],
   "source": [
    "df = pd.DataFrame(\n",
    "{'id':[2967, 5335, 13950, 6141, 6169],\\\n",
    " 'Player': ['Cedric Hunter', 'Maurice Baker' ,\\\n",
    "            'Ratko Varda' ,'Ryan Bowen' ,'Adrian Caldwell'],\\\n",
    " 'Year': [1991 ,2004 ,2001 ,2009 ,1997],\\\n",
    " 'Age': [27 ,25 ,22 ,34 ,31],\\\n",
    " 'Tm':['CHH' ,'VAN' ,'TOT' ,'OKC' ,'DAL'],\\\n",
    " 'G':[6 ,7 ,60 ,52 ,81]})\n",
    "\n",
    "# Define the sorter\n",
    "sorter = ['TOT', 'ATL', 'BOS', 'BRK', 'CHA', 'CHH', 'CHI', 'CLE', 'DAL','DEN',\\\n",
    "          'DET', 'GSW', 'HOU', 'IND', 'LAC', 'LAL', 'MEM', 'MIA', 'MIL',\\\n",
    "          'MIN', 'NJN', 'NOH', 'NOK', 'NOP', 'NYK', 'OKC', 'ORL', 'PHI',\\\n",
    "          'PHO', 'POR', 'SAC', 'SAS', 'SEA', 'TOR', 'UTA', 'VAN',\\\n",
    "          'WAS', 'WSB']"
   ]
  },
  {
   "cell_type": "code",
   "execution_count": 11,
   "metadata": {
    "collapsed": false
   },
   "outputs": [],
   "source": [
    "df['Tm'] = df['Tm'].astype('category')"
   ]
  },
  {
   "cell_type": "code",
   "execution_count": 12,
   "metadata": {
    "collapsed": true
   },
   "outputs": [],
   "source": [
    "df.Tm.cat.set_categories(sorter,ordered = True,inplace = True)"
   ]
  },
  {
   "cell_type": "code",
   "execution_count": 14,
   "metadata": {
    "collapsed": false
   },
   "outputs": [
    {
     "data": {
      "text/html": [
       "<div>\n",
       "<style>\n",
       "    .dataframe thead tr:only-child th {\n",
       "        text-align: right;\n",
       "    }\n",
       "\n",
       "    .dataframe thead th {\n",
       "        text-align: left;\n",
       "    }\n",
       "\n",
       "    .dataframe tbody tr th {\n",
       "        vertical-align: top;\n",
       "    }\n",
       "</style>\n",
       "<table border=\"1\" class=\"dataframe\">\n",
       "  <thead>\n",
       "    <tr style=\"text-align: right;\">\n",
       "      <th></th>\n",
       "      <th>Age</th>\n",
       "      <th>G</th>\n",
       "      <th>Player</th>\n",
       "      <th>Tm</th>\n",
       "      <th>Year</th>\n",
       "      <th>id</th>\n",
       "    </tr>\n",
       "  </thead>\n",
       "  <tbody>\n",
       "    <tr>\n",
       "      <th>2</th>\n",
       "      <td>22</td>\n",
       "      <td>60</td>\n",
       "      <td>Ratko Varda</td>\n",
       "      <td>TOT</td>\n",
       "      <td>2001</td>\n",
       "      <td>13950</td>\n",
       "    </tr>\n",
       "    <tr>\n",
       "      <th>0</th>\n",
       "      <td>27</td>\n",
       "      <td>6</td>\n",
       "      <td>Cedric Hunter</td>\n",
       "      <td>CHH</td>\n",
       "      <td>1991</td>\n",
       "      <td>2967</td>\n",
       "    </tr>\n",
       "    <tr>\n",
       "      <th>4</th>\n",
       "      <td>31</td>\n",
       "      <td>81</td>\n",
       "      <td>Adrian Caldwell</td>\n",
       "      <td>DAL</td>\n",
       "      <td>1997</td>\n",
       "      <td>6169</td>\n",
       "    </tr>\n",
       "    <tr>\n",
       "      <th>3</th>\n",
       "      <td>34</td>\n",
       "      <td>52</td>\n",
       "      <td>Ryan Bowen</td>\n",
       "      <td>OKC</td>\n",
       "      <td>2009</td>\n",
       "      <td>6141</td>\n",
       "    </tr>\n",
       "    <tr>\n",
       "      <th>1</th>\n",
       "      <td>25</td>\n",
       "      <td>7</td>\n",
       "      <td>Maurice Baker</td>\n",
       "      <td>VAN</td>\n",
       "      <td>2004</td>\n",
       "      <td>5335</td>\n",
       "    </tr>\n",
       "  </tbody>\n",
       "</table>\n",
       "</div>"
      ],
      "text/plain": [
       "   Age   G           Player   Tm  Year     id\n",
       "2   22  60      Ratko Varda  TOT  2001  13950\n",
       "0   27   6    Cedric Hunter  CHH  1991   2967\n",
       "4   31  81  Adrian Caldwell  DAL  1997   6169\n",
       "3   34  52       Ryan Bowen  OKC  2009   6141\n",
       "1   25   7    Maurice Baker  VAN  2004   5335"
      ]
     },
     "execution_count": 14,
     "metadata": {},
     "output_type": "execute_result"
    }
   ],
   "source": [
    "df.sort_values(['Tm','id','Year'])"
   ]
  },
  {
   "cell_type": "code",
   "execution_count": 15,
   "metadata": {
    "collapsed": false
   },
   "outputs": [
    {
     "data": {
      "text/plain": [
       "0    CHH\n",
       "1    VAN\n",
       "2    TOT\n",
       "3    OKC\n",
       "4    DAL\n",
       "Name: Tm, dtype: category\n",
       "Categories (38, object): [TOT < ATL < BOS < BRK ... UTA < VAN < WAS < WSB]"
      ]
     },
     "execution_count": 15,
     "metadata": {},
     "output_type": "execute_result"
    }
   ],
   "source": [
    "df.Tm"
   ]
  },
  {
   "cell_type": "code",
   "execution_count": null,
   "metadata": {
    "collapsed": true
   },
   "outputs": [],
   "source": []
  }
 ],
 "metadata": {
  "kernelspec": {
   "display_name": "Python 3",
   "language": "python",
   "name": "python3"
  },
  "language_info": {
   "codemirror_mode": {
    "name": "ipython",
    "version": 3
   },
   "file_extension": ".py",
   "mimetype": "text/x-python",
   "name": "python",
   "nbconvert_exporter": "python",
   "pygments_lexer": "ipython3",
   "version": "3.5.2"
  }
 },
 "nbformat": 4,
 "nbformat_minor": 1
}
